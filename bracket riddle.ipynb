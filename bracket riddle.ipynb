{
 "cells": [
  {
   "cell_type": "code",
   "execution_count": 1,
   "metadata": {},
   "outputs": [],
   "source": [
    "import time"
   ]
  },
  {
   "cell_type": "code",
   "execution_count": 12,
   "metadata": {},
   "outputs": [],
   "source": [
    "input1= '(abc)(3dk)(helloworld)'\n",
    "input2= '(a(bc))says (helloworld'\n",
    "input3= 'why )(have we))(('\n",
    "input4= '(abc)))(jamboleio eats a mango)'\n",
    "input5= ['(dkjk)',')dfsf(','(((jamal)eats)(']"
   ]
  },
  {
   "cell_type": "code",
   "execution_count": 13,
   "metadata": {},
   "outputs": [],
   "source": [
    "#meine Idee \n",
    "def finderror2(stringobject):\n",
    "    counter = 0\n",
    "    for c in stringobject:\n",
    "        if counter < 0 : #nicht gut, beim ersten Durchlauf macht er hier nichts- erst in t+1 \n",
    "            break\n",
    "        if c == \"(\":\n",
    "            counter += 1\n",
    "        elif c == \")\":\n",
    "            counter -= 1\n",
    "        \n",
    "    return counter == 0"
   ]
  },
  {
   "cell_type": "code",
   "execution_count": 14,
   "metadata": {},
   "outputs": [],
   "source": [
    "#CTO hat gesagt, dies sei besser, da dann die loop erst ganz durchläuft und breakt wenn sie sollte\n",
    "def finderror(stringobject):\n",
    "    counter = 0\n",
    "    for c in stringobject:\n",
    "        if c == \"(\":\n",
    "            counter += 1 #achtung hier muss += und nicht =+1 !!\n",
    "        elif c == \")\":\n",
    "            counter -= 1\n",
    "        if counter <0 : #achtung hier mach < 0 nicht = -1\n",
    "            break\n",
    "    return counter == 0"
   ]
  },
  {
   "cell_type": "code",
   "execution_count": 15,
   "metadata": {},
   "outputs": [
    {
     "name": "stdout",
     "output_type": "stream",
     "text": [
      "True\n",
      "False\n",
      "False\n",
      "CPU times: user 1.32 ms, sys: 91 µs, total: 1.41 ms\n",
      "Wall time: 985 µs\n"
     ]
    }
   ],
   "source": [
    "%%time\n",
    "a = []*100000\n",
    "for e in input5:\n",
    "    print(finderror(e))\n",
    "    "
   ]
  },
  {
   "cell_type": "code",
   "execution_count": 16,
   "metadata": {},
   "outputs": [
    {
     "name": "stdout",
     "output_type": "stream",
     "text": [
      "True\n",
      "False\n",
      "False\n",
      "CPU times: user 1.68 ms, sys: 0 ns, total: 1.68 ms\n",
      "Wall time: 948 µs\n"
     ]
    }
   ],
   "source": [
    "%%time\n",
    "a = []*100000\n",
    "for e in input5:\n",
    "    print(finderror2(e))\n",
    "    "
   ]
  },
  {
   "cell_type": "code",
   "execution_count": 9,
   "metadata": {},
   "outputs": [
    {
     "name": "stdout",
     "output_type": "stream",
     "text": [
      "True\n",
      "False\n",
      "True\n"
     ]
    }
   ],
   "source": [
    "for e in input5:\n",
    "    print(finderror(e))"
   ]
  },
  {
   "cell_type": "code",
   "execution_count": 10,
   "metadata": {},
   "outputs": [
    {
     "name": "stdout",
     "output_type": "stream",
     "text": [
      "True\n",
      "False\n",
      "True\n"
     ]
    }
   ],
   "source": [
    "for e in input5:\n",
    "    print(finderror2(e))"
   ]
  },
  {
   "cell_type": "code",
   "execution_count": 10,
   "metadata": {},
   "outputs": [],
   "source": [
    "def test3(string):\n",
    "    counter = 0\n",
    "    for i in string:\n",
    "        if i == \"(\":\n",
    "            counter += 1\n",
    "        elif i == \")\":\n",
    "            counter -= 1\n",
    "        if counter < 0:\n",
    "            return False\n",
    "    return counter == 0"
   ]
  },
  {
   "cell_type": "code",
   "execution_count": 11,
   "metadata": {},
   "outputs": [
    {
     "data": {
      "text/plain": [
       "False"
      ]
     },
     "execution_count": 11,
     "metadata": {},
     "output_type": "execute_result"
    }
   ],
   "source": [
    "test3(input2)"
   ]
  },
  {
   "cell_type": "code",
   "execution_count": 16,
   "metadata": {},
   "outputs": [
    {
     "name": "stdout",
     "output_type": "stream",
     "text": [
      "CPU times: user 4 µs, sys: 1 µs, total: 5 µs\n",
      "Wall time: 10.3 µs\n"
     ]
    },
    {
     "data": {
      "text/plain": [
       "False"
      ]
     },
     "execution_count": 16,
     "metadata": {},
     "output_type": "execute_result"
    }
   ],
   "source": [
    "%time\n",
    "test3(input4)"
   ]
  },
  {
   "cell_type": "code",
   "execution_count": 7,
   "metadata": {},
   "outputs": [
    {
     "data": {
      "text/plain": [
       "False"
      ]
     },
     "execution_count": 7,
     "metadata": {},
     "output_type": "execute_result"
    }
   ],
   "source": [
    "finderror(input2)"
   ]
  },
  {
   "cell_type": "code",
   "execution_count": 8,
   "metadata": {},
   "outputs": [
    {
     "data": {
      "text/plain": [
       "False"
      ]
     },
     "execution_count": 8,
     "metadata": {},
     "output_type": "execute_result"
    }
   ],
   "source": [
    "finderror2(input2)"
   ]
  },
  {
   "cell_type": "code",
   "execution_count": null,
   "metadata": {},
   "outputs": [],
   "source": []
  }
 ],
 "metadata": {
  "kernelspec": {
   "display_name": "Python 3",
   "language": "python",
   "name": "python3"
  },
  "language_info": {
   "codemirror_mode": {
    "name": "ipython",
    "version": 3
   },
   "file_extension": ".py",
   "mimetype": "text/x-python",
   "name": "python",
   "nbconvert_exporter": "python",
   "pygments_lexer": "ipython3",
   "version": "3.7.3"
  }
 },
 "nbformat": 4,
 "nbformat_minor": 2
}
